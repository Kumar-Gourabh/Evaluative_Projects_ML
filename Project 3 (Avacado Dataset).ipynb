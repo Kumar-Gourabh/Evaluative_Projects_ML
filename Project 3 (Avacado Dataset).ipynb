{
 "cells": [
  {
   "cell_type": "markdown",
   "metadata": {},
   "source": [
    "# Avocado dataset\n",
    "\n",
    "Avocado is a fruit consumed by people heavily in the United States. \n",
    "\n",
    "Content:\n",
    "\n",
    "This data was downloaded from the Hass Avocado Board website in May of 2018 & compiled into a single CSV. Here's how the Hass Avocado Board describes the data on their website:\n",
    "\n",
    "> The table below represents weekly 2018 retail scan data for National retail volume (units) and price. Retail scan data comes directly from retailers’ cash registers based on actual retail sales of Hass avocados. Starting in 2013, the table below reflects an expanded, multi-outlet retail data set. Multi-outlet reporting includes an aggregation of the following channels: grocery, mass, club, drug, dollar and military. The Average Price (of avocados) in the table reflects a per unit (per avocado) cost, even when multiple units (avocados) are sold in bags. The Product Lookup codes (PLU’s) in the table are only for Hass avocados. Other varieties of avocados (e.g. greenskins) are not included in this table.\n",
    "\n",
    "Some relevant columns in the dataset:\n",
    "\n",
    "Date - The date of the observation\n",
    "AveragePrice - the average price of a single avocado\n",
    "type - conventional or organic\n",
    "year - the year\n",
    "Region - the city or region of the observation\n",
    "Total Volume - Total number of avocados sold\n",
    "4046 - Total number of avocados with PLU 4046 sold\n",
    "4225 - Total number of avocados with PLU 4225 sold\n",
    "4770 - Total number of avocados with PLU 4770 sold\n",
    "\n",
    "\n",
    "Inspiration /Label \n",
    "\n",
    "The dataset can be seen in two angles to find the city or region and find the average price .\n",
    "\n",
    "Task: Classification /Regression\n",
    "\n",
    "\n",
    "\n",
    "Do both tasks in the same .ipynb file and submit\n",
    "\n",
    "Note: This original dataset has 2000 rows. Here we reduce it to 1500 rows. In the dataset, you may find blank values after 1510 rows. Hence, you may delete all blank rows in your CSV files explicitly.\n"
   ]
  },
  {
   "cell_type": "code",
   "execution_count": 73,
   "metadata": {},
   "outputs": [],
   "source": [
    "# Importing Common Libraries\n",
    "\n",
    "import pandas as pd\n",
    "import numpy as np\n",
    "import seaborn as sns\n",
    "import matplotlib.pyplot as plt\n",
    "import warnings\n",
    "warnings.filterwarnings('ignore')"
   ]
  },
  {
   "cell_type": "code",
   "execution_count": 74,
   "metadata": {},
   "outputs": [
    {
     "data": {
      "text/plain": [
       "(1500, 13)"
      ]
     },
     "execution_count": 74,
     "metadata": {},
     "output_type": "execute_result"
    }
   ],
   "source": [
    "# Loading the dataset\n",
    "df=pd.read_csv(\"avocado.csv\")\n",
    "# Removing unnamed Column\n",
    "df= df.iloc[:1500,1:]\n",
    "df.shape"
   ]
  },
  {
   "cell_type": "code",
   "execution_count": 75,
   "metadata": {},
   "outputs": [
    {
     "data": {
      "text/html": [
       "<div>\n",
       "<style scoped>\n",
       "    .dataframe tbody tr th:only-of-type {\n",
       "        vertical-align: middle;\n",
       "    }\n",
       "\n",
       "    .dataframe tbody tr th {\n",
       "        vertical-align: top;\n",
       "    }\n",
       "\n",
       "    .dataframe thead th {\n",
       "        text-align: right;\n",
       "    }\n",
       "</style>\n",
       "<table border=\"1\" class=\"dataframe\">\n",
       "  <thead>\n",
       "    <tr style=\"text-align: right;\">\n",
       "      <th></th>\n",
       "      <th>Date</th>\n",
       "      <th>AveragePrice</th>\n",
       "      <th>Total Volume</th>\n",
       "      <th>4046</th>\n",
       "      <th>4225</th>\n",
       "      <th>4770</th>\n",
       "      <th>Total Bags</th>\n",
       "      <th>Small Bags</th>\n",
       "      <th>Large Bags</th>\n",
       "      <th>XLarge Bags</th>\n",
       "      <th>type</th>\n",
       "      <th>year</th>\n",
       "      <th>region</th>\n",
       "    </tr>\n",
       "  </thead>\n",
       "  <tbody>\n",
       "    <tr>\n",
       "      <th>0</th>\n",
       "      <td>27-12-2015</td>\n",
       "      <td>1.33</td>\n",
       "      <td>64236.62</td>\n",
       "      <td>1036.74</td>\n",
       "      <td>54454.85</td>\n",
       "      <td>48.16</td>\n",
       "      <td>8696.87</td>\n",
       "      <td>8603.62</td>\n",
       "      <td>93.25</td>\n",
       "      <td>0.0</td>\n",
       "      <td>conventional</td>\n",
       "      <td>2015.0</td>\n",
       "      <td>Albany</td>\n",
       "    </tr>\n",
       "    <tr>\n",
       "      <th>1</th>\n",
       "      <td>20-12-2015</td>\n",
       "      <td>1.35</td>\n",
       "      <td>54876.98</td>\n",
       "      <td>674.28</td>\n",
       "      <td>44638.81</td>\n",
       "      <td>58.33</td>\n",
       "      <td>9505.56</td>\n",
       "      <td>9408.07</td>\n",
       "      <td>97.49</td>\n",
       "      <td>0.0</td>\n",
       "      <td>conventional</td>\n",
       "      <td>2015.0</td>\n",
       "      <td>Albany</td>\n",
       "    </tr>\n",
       "    <tr>\n",
       "      <th>2</th>\n",
       "      <td>13-12-2015</td>\n",
       "      <td>0.93</td>\n",
       "      <td>118220.22</td>\n",
       "      <td>794.70</td>\n",
       "      <td>109149.67</td>\n",
       "      <td>130.50</td>\n",
       "      <td>8145.35</td>\n",
       "      <td>8042.21</td>\n",
       "      <td>103.14</td>\n",
       "      <td>0.0</td>\n",
       "      <td>conventional</td>\n",
       "      <td>2015.0</td>\n",
       "      <td>Albany</td>\n",
       "    </tr>\n",
       "    <tr>\n",
       "      <th>3</th>\n",
       "      <td>06-12-2015</td>\n",
       "      <td>1.08</td>\n",
       "      <td>78992.15</td>\n",
       "      <td>1132.00</td>\n",
       "      <td>71976.41</td>\n",
       "      <td>72.58</td>\n",
       "      <td>5811.16</td>\n",
       "      <td>5677.40</td>\n",
       "      <td>133.76</td>\n",
       "      <td>0.0</td>\n",
       "      <td>conventional</td>\n",
       "      <td>2015.0</td>\n",
       "      <td>Albany</td>\n",
       "    </tr>\n",
       "    <tr>\n",
       "      <th>4</th>\n",
       "      <td>29-11-2015</td>\n",
       "      <td>1.28</td>\n",
       "      <td>51039.60</td>\n",
       "      <td>941.48</td>\n",
       "      <td>43838.39</td>\n",
       "      <td>75.78</td>\n",
       "      <td>6183.95</td>\n",
       "      <td>5986.26</td>\n",
       "      <td>197.69</td>\n",
       "      <td>0.0</td>\n",
       "      <td>conventional</td>\n",
       "      <td>2015.0</td>\n",
       "      <td>Albany</td>\n",
       "    </tr>\n",
       "    <tr>\n",
       "      <th>5</th>\n",
       "      <td>22-11-2015</td>\n",
       "      <td>1.26</td>\n",
       "      <td>55979.78</td>\n",
       "      <td>1184.27</td>\n",
       "      <td>48067.99</td>\n",
       "      <td>43.61</td>\n",
       "      <td>6683.91</td>\n",
       "      <td>6556.47</td>\n",
       "      <td>127.44</td>\n",
       "      <td>0.0</td>\n",
       "      <td>conventional</td>\n",
       "      <td>2015.0</td>\n",
       "      <td>Albany</td>\n",
       "    </tr>\n",
       "    <tr>\n",
       "      <th>6</th>\n",
       "      <td>15-11-2015</td>\n",
       "      <td>0.99</td>\n",
       "      <td>83453.76</td>\n",
       "      <td>1368.92</td>\n",
       "      <td>73672.72</td>\n",
       "      <td>93.26</td>\n",
       "      <td>8318.86</td>\n",
       "      <td>8196.81</td>\n",
       "      <td>122.05</td>\n",
       "      <td>0.0</td>\n",
       "      <td>conventional</td>\n",
       "      <td>2015.0</td>\n",
       "      <td>Albany</td>\n",
       "    </tr>\n",
       "    <tr>\n",
       "      <th>7</th>\n",
       "      <td>08-11-2015</td>\n",
       "      <td>0.98</td>\n",
       "      <td>109428.33</td>\n",
       "      <td>703.75</td>\n",
       "      <td>101815.36</td>\n",
       "      <td>80.00</td>\n",
       "      <td>6829.22</td>\n",
       "      <td>6266.85</td>\n",
       "      <td>562.37</td>\n",
       "      <td>0.0</td>\n",
       "      <td>conventional</td>\n",
       "      <td>2015.0</td>\n",
       "      <td>Albany</td>\n",
       "    </tr>\n",
       "    <tr>\n",
       "      <th>8</th>\n",
       "      <td>01-11-2015</td>\n",
       "      <td>1.02</td>\n",
       "      <td>99811.42</td>\n",
       "      <td>1022.15</td>\n",
       "      <td>87315.57</td>\n",
       "      <td>85.34</td>\n",
       "      <td>11388.36</td>\n",
       "      <td>11104.53</td>\n",
       "      <td>283.83</td>\n",
       "      <td>0.0</td>\n",
       "      <td>conventional</td>\n",
       "      <td>2015.0</td>\n",
       "      <td>Albany</td>\n",
       "    </tr>\n",
       "    <tr>\n",
       "      <th>9</th>\n",
       "      <td>25-10-2015</td>\n",
       "      <td>1.07</td>\n",
       "      <td>74338.76</td>\n",
       "      <td>842.40</td>\n",
       "      <td>64757.44</td>\n",
       "      <td>113.00</td>\n",
       "      <td>8625.92</td>\n",
       "      <td>8061.47</td>\n",
       "      <td>564.45</td>\n",
       "      <td>0.0</td>\n",
       "      <td>conventional</td>\n",
       "      <td>2015.0</td>\n",
       "      <td>Albany</td>\n",
       "    </tr>\n",
       "  </tbody>\n",
       "</table>\n",
       "</div>"
      ],
      "text/plain": [
       "         Date  AveragePrice  Total Volume     4046       4225    4770  \\\n",
       "0  27-12-2015          1.33      64236.62  1036.74   54454.85   48.16   \n",
       "1  20-12-2015          1.35      54876.98   674.28   44638.81   58.33   \n",
       "2  13-12-2015          0.93     118220.22   794.70  109149.67  130.50   \n",
       "3  06-12-2015          1.08      78992.15  1132.00   71976.41   72.58   \n",
       "4  29-11-2015          1.28      51039.60   941.48   43838.39   75.78   \n",
       "5  22-11-2015          1.26      55979.78  1184.27   48067.99   43.61   \n",
       "6  15-11-2015          0.99      83453.76  1368.92   73672.72   93.26   \n",
       "7  08-11-2015          0.98     109428.33   703.75  101815.36   80.00   \n",
       "8  01-11-2015          1.02      99811.42  1022.15   87315.57   85.34   \n",
       "9  25-10-2015          1.07      74338.76   842.40   64757.44  113.00   \n",
       "\n",
       "   Total Bags  Small Bags  Large Bags  XLarge Bags          type    year  \\\n",
       "0     8696.87     8603.62       93.25          0.0  conventional  2015.0   \n",
       "1     9505.56     9408.07       97.49          0.0  conventional  2015.0   \n",
       "2     8145.35     8042.21      103.14          0.0  conventional  2015.0   \n",
       "3     5811.16     5677.40      133.76          0.0  conventional  2015.0   \n",
       "4     6183.95     5986.26      197.69          0.0  conventional  2015.0   \n",
       "5     6683.91     6556.47      127.44          0.0  conventional  2015.0   \n",
       "6     8318.86     8196.81      122.05          0.0  conventional  2015.0   \n",
       "7     6829.22     6266.85      562.37          0.0  conventional  2015.0   \n",
       "8    11388.36    11104.53      283.83          0.0  conventional  2015.0   \n",
       "9     8625.92     8061.47      564.45          0.0  conventional  2015.0   \n",
       "\n",
       "   region  \n",
       "0  Albany  \n",
       "1  Albany  \n",
       "2  Albany  \n",
       "3  Albany  \n",
       "4  Albany  \n",
       "5  Albany  \n",
       "6  Albany  \n",
       "7  Albany  \n",
       "8  Albany  \n",
       "9  Albany  "
      ]
     },
     "execution_count": 75,
     "metadata": {},
     "output_type": "execute_result"
    }
   ],
   "source": [
    "#Let's see the data\n",
    "df.head(10)"
   ]
  },
  {
   "cell_type": "code",
   "execution_count": 76,
   "metadata": {},
   "outputs": [
    {
     "data": {
      "text/plain": [
       "Date             object\n",
       "AveragePrice    float64\n",
       "Total Volume    float64\n",
       "4046            float64\n",
       "4225            float64\n",
       "4770            float64\n",
       "Total Bags      float64\n",
       "Small Bags      float64\n",
       "Large Bags      float64\n",
       "XLarge Bags     float64\n",
       "type             object\n",
       "year            float64\n",
       "region           object\n",
       "dtype: object"
      ]
     },
     "execution_count": 76,
     "metadata": {},
     "output_type": "execute_result"
    }
   ],
   "source": [
    "df.dtypes"
   ]
  },
  {
   "cell_type": "code",
   "execution_count": 77,
   "metadata": {},
   "outputs": [
    {
     "data": {
      "image/png": "[encoded data removed]",
      "text/plain": [
       "<Figure size 432x288 with 2 Axes>"
      ]
     },
     "metadata": {
      "needs_background": "light"
     },
     "output_type": "display_data"
    }
   ],
   "source": [
    "# let's check null values\n",
    "sns.heatmap(df.isnull(),annot=True)\n",
    "plt.show()\n",
    "#No Null Values"
   ]
  },
  {
   "cell_type": "code",
   "execution_count": 78,
   "metadata": {},
   "outputs": [
    {
     "data": {
      "text/html": [
       "<div>\n",
       "<style scoped>\n",
       "    .dataframe tbody tr th:only-of-type {\n",
       "        vertical-align: middle;\n",
       "    }\n",
       "\n",
       "    .dataframe tbody tr th {\n",
       "        vertical-align: top;\n",
       "    }\n",
       "\n",
       "    .dataframe thead th {\n",
       "        text-align: right;\n",
       "    }\n",
       "</style>\n",
       "<table border=\"1\" class=\"dataframe\">\n",
       "  <thead>\n",
       "    <tr style=\"text-align: right;\">\n",
       "      <th></th>\n",
       "      <th>Date</th>\n",
       "      <th>AveragePrice</th>\n",
       "      <th>Total Volume</th>\n",
       "      <th>4046</th>\n",
       "      <th>4225</th>\n",
       "      <th>4770</th>\n",
       "      <th>Total Bags</th>\n",
       "      <th>Small Bags</th>\n",
       "      <th>Large Bags</th>\n",
       "      <th>XLarge Bags</th>\n",
       "      <th>type</th>\n",
       "      <th>year</th>\n",
       "      <th>region</th>\n",
       "    </tr>\n",
       "  </thead>\n",
       "  <tbody>\n",
       "    <tr>\n",
       "      <th>count</th>\n",
       "      <td>1500</td>\n",
       "      <td>1500.000000</td>\n",
       "      <td>1.500000e+03</td>\n",
       "      <td>1.500000e+03</td>\n",
       "      <td>1.500000e+03</td>\n",
       "      <td>1.500000e+03</td>\n",
       "      <td>1.500000e+03</td>\n",
       "      <td>1.500000e+03</td>\n",
       "      <td>1.500000e+03</td>\n",
       "      <td>1500.000000</td>\n",
       "      <td>1500</td>\n",
       "      <td>1500.000000</td>\n",
       "      <td>1500</td>\n",
       "    </tr>\n",
       "    <tr>\n",
       "      <th>unique</th>\n",
       "      <td>104</td>\n",
       "      <td>NaN</td>\n",
       "      <td>NaN</td>\n",
       "      <td>NaN</td>\n",
       "      <td>NaN</td>\n",
       "      <td>NaN</td>\n",
       "      <td>NaN</td>\n",
       "      <td>NaN</td>\n",
       "      <td>NaN</td>\n",
       "      <td>NaN</td>\n",
       "      <td>1</td>\n",
       "      <td>NaN</td>\n",
       "      <td>51</td>\n",
       "    </tr>\n",
       "    <tr>\n",
       "      <th>top</th>\n",
       "      <td>12-04-2015</td>\n",
       "      <td>NaN</td>\n",
       "      <td>NaN</td>\n",
       "      <td>NaN</td>\n",
       "      <td>NaN</td>\n",
       "      <td>NaN</td>\n",
       "      <td>NaN</td>\n",
       "      <td>NaN</td>\n",
       "      <td>NaN</td>\n",
       "      <td>NaN</td>\n",
       "      <td>conventional</td>\n",
       "      <td>NaN</td>\n",
       "      <td>California</td>\n",
       "    </tr>\n",
       "    <tr>\n",
       "      <th>freq</th>\n",
       "      <td>34</td>\n",
       "      <td>NaN</td>\n",
       "      <td>NaN</td>\n",
       "      <td>NaN</td>\n",
       "      <td>NaN</td>\n",
       "      <td>NaN</td>\n",
       "      <td>NaN</td>\n",
       "      <td>NaN</td>\n",
       "      <td>NaN</td>\n",
       "      <td>NaN</td>\n",
       "      <td>1500</td>\n",
       "      <td>NaN</td>\n",
       "      <td>74</td>\n",
       "    </tr>\n",
       "    <tr>\n",
       "      <th>mean</th>\n",
       "      <td>NaN</td>\n",
       "      <td>1.071533</td>\n",
       "      <td>1.609088e+06</td>\n",
       "      <td>6.506221e+05</td>\n",
       "      <td>6.145873e+05</td>\n",
       "      <td>5.047160e+04</td>\n",
       "      <td>2.934071e+05</td>\n",
       "      <td>2.486180e+05</td>\n",
       "      <td>4.260156e+04</td>\n",
       "      <td>2187.511707</td>\n",
       "      <td>NaN</td>\n",
       "      <td>2015.153333</td>\n",
       "      <td>NaN</td>\n",
       "    </tr>\n",
       "    <tr>\n",
       "      <th>std</th>\n",
       "      <td>NaN</td>\n",
       "      <td>0.185364</td>\n",
       "      <td>4.451398e+06</td>\n",
       "      <td>1.957018e+06</td>\n",
       "      <td>1.679916e+06</td>\n",
       "      <td>1.383050e+05</td>\n",
       "      <td>7.586402e+05</td>\n",
       "      <td>6.481144e+05</td>\n",
       "      <td>1.183651e+05</td>\n",
       "      <td>7482.631600</td>\n",
       "      <td>NaN</td>\n",
       "      <td>0.360429</td>\n",
       "      <td>NaN</td>\n",
       "    </tr>\n",
       "    <tr>\n",
       "      <th>min</th>\n",
       "      <td>NaN</td>\n",
       "      <td>0.490000</td>\n",
       "      <td>3.875074e+04</td>\n",
       "      <td>4.677200e+02</td>\n",
       "      <td>1.783770e+03</td>\n",
       "      <td>0.000000e+00</td>\n",
       "      <td>3.311770e+03</td>\n",
       "      <td>3.311770e+03</td>\n",
       "      <td>0.000000e+00</td>\n",
       "      <td>0.000000</td>\n",
       "      <td>NaN</td>\n",
       "      <td>2015.000000</td>\n",
       "      <td>NaN</td>\n",
       "    </tr>\n",
       "    <tr>\n",
       "      <th>25%</th>\n",
       "      <td>NaN</td>\n",
       "      <td>0.970000</td>\n",
       "      <td>1.476492e+05</td>\n",
       "      <td>2.013010e+04</td>\n",
       "      <td>4.185570e+04</td>\n",
       "      <td>8.672775e+02</td>\n",
       "      <td>3.587820e+04</td>\n",
       "      <td>2.963462e+04</td>\n",
       "      <td>5.125525e+02</td>\n",
       "      <td>0.000000</td>\n",
       "      <td>NaN</td>\n",
       "      <td>2015.000000</td>\n",
       "      <td>NaN</td>\n",
       "    </tr>\n",
       "    <tr>\n",
       "      <th>50%</th>\n",
       "      <td>NaN</td>\n",
       "      <td>1.080000</td>\n",
       "      <td>4.073439e+05</td>\n",
       "      <td>8.411721e+04</td>\n",
       "      <td>1.243290e+05</td>\n",
       "      <td>7.360670e+03</td>\n",
       "      <td>7.460980e+04</td>\n",
       "      <td>6.301849e+04</td>\n",
       "      <td>4.785235e+03</td>\n",
       "      <td>0.000000</td>\n",
       "      <td>NaN</td>\n",
       "      <td>2015.000000</td>\n",
       "      <td>NaN</td>\n",
       "    </tr>\n",
       "    <tr>\n",
       "      <th>75%</th>\n",
       "      <td>NaN</td>\n",
       "      <td>1.190000</td>\n",
       "      <td>9.904908e+05</td>\n",
       "      <td>3.811823e+05</td>\n",
       "      <td>4.868930e+05</td>\n",
       "      <td>3.085165e+04</td>\n",
       "      <td>1.582093e+05</td>\n",
       "      <td>1.468208e+05</td>\n",
       "      <td>3.005311e+04</td>\n",
       "      <td>409.167500</td>\n",
       "      <td>NaN</td>\n",
       "      <td>2015.000000</td>\n",
       "      <td>NaN</td>\n",
       "    </tr>\n",
       "    <tr>\n",
       "      <th>max</th>\n",
       "      <td>NaN</td>\n",
       "      <td>1.680000</td>\n",
       "      <td>4.465546e+07</td>\n",
       "      <td>1.893304e+07</td>\n",
       "      <td>1.895648e+07</td>\n",
       "      <td>1.381516e+06</td>\n",
       "      <td>6.736304e+06</td>\n",
       "      <td>5.893642e+06</td>\n",
       "      <td>1.121076e+06</td>\n",
       "      <td>108072.790000</td>\n",
       "      <td>NaN</td>\n",
       "      <td>2016.000000</td>\n",
       "      <td>NaN</td>\n",
       "    </tr>\n",
       "  </tbody>\n",
       "</table>\n",
       "</div>"
      ],
      "text/plain": [
       "              Date  AveragePrice  Total Volume          4046          4225  \\\n",
       "count         1500   1500.000000  1.500000e+03  1.500000e+03  1.500000e+03   \n",
       "unique         104           NaN           NaN           NaN           NaN   \n",
       "top     12-04-2015           NaN           NaN           NaN           NaN   \n",
       "freq            34           NaN           NaN           NaN           NaN   \n",
       "mean           NaN      1.071533  1.609088e+06  6.506221e+05  6.145873e+05   \n",
       "std            NaN      0.185364  4.451398e+06  1.957018e+06  1.679916e+06   \n",
       "min            NaN      0.490000  3.875074e+04  4.677200e+02  1.783770e+03   \n",
       "25%            NaN      0.970000  1.476492e+05  2.013010e+04  4.185570e+04   \n",
       "50%            NaN      1.080000  4.073439e+05  8.411721e+04  1.243290e+05   \n",
       "75%            NaN      1.190000  9.904908e+05  3.811823e+05  4.868930e+05   \n",
       "max            NaN      1.680000  4.465546e+07  1.893304e+07  1.895648e+07   \n",
       "\n",
       "                4770    Total Bags    Small Bags    Large Bags    XLarge Bags  \\\n",
       "count   1.500000e+03  1.500000e+03  1.500000e+03  1.500000e+03    1500.000000   \n",
       "unique           NaN           NaN           NaN           NaN            NaN   \n",
       "top              NaN           NaN           NaN           NaN            NaN   \n",
       "freq             NaN           NaN           NaN           NaN            NaN   \n",
       "mean    5.047160e+04  2.934071e+05  2.486180e+05  4.260156e+04    2187.511707   \n",
       "std     1.383050e+05  7.586402e+05  6.481144e+05  1.183651e+05    7482.631600   \n",
       "min     0.000000e+00  3.311770e+03  3.311770e+03  0.000000e+00       0.000000   \n",
       "25%     8.672775e+02  3.587820e+04  2.963462e+04  5.125525e+02       0.000000   \n",
       "50%     7.360670e+03  7.460980e+04  6.301849e+04  4.785235e+03       0.000000   \n",
       "75%     3.085165e+04  1.582093e+05  1.468208e+05  3.005311e+04     409.167500   \n",
       "max     1.381516e+06  6.736304e+06  5.893642e+06  1.121076e+06  108072.790000   \n",
       "\n",
       "                type         year      region  \n",
       "count           1500  1500.000000        1500  \n",
       "unique             1          NaN          51  \n",
       "top     conventional          NaN  California  \n",
       "freq            1500          NaN          74  \n",
       "mean             NaN  2015.153333         NaN  \n",
       "std              NaN     0.360429         NaN  \n",
       "min              NaN  2015.000000         NaN  \n",
       "25%              NaN  2015.000000         NaN  \n",
       "50%              NaN  2015.000000         NaN  \n",
       "75%              NaN  2015.000000         NaN  \n",
       "max              NaN  2016.000000         NaN  "
      ]
     },
     "execution_count": 78,
     "metadata": {},
     "output_type": "execute_result"
    }
   ],
   "source": [
    "# Let's describe the data for better understanding\n",
    "df.describe(include='all')"
   ]
  },
  {
   "cell_type": "code",
   "execution_count": 79,
   "metadata": {},
   "outputs": [
    {
     "data": {
      "text/plain": [
       "conventional    1500\n",
       "Name: type, dtype: int64"
      ]
     },
     "execution_count": 79,
     "metadata": {},
     "output_type": "execute_result"
    }
   ],
   "source": [
    "# We saw that 'type' has only one value. Lets reconfirm\n",
    "df['type'].value_counts()"
   ]
  },
  {
   "cell_type": "code",
   "execution_count": 80,
   "metadata": {},
   "outputs": [],
   "source": [
    "#Dropping 'type'\n",
    "df.drop('type',axis=1,inplace=True)"
   ]
  },
  {
   "cell_type": "code",
   "execution_count": 81,
   "metadata": {},
   "outputs": [
    {
     "data": {
      "text/plain": [
       "California             74\n",
       "Albany                 67\n",
       "BaltimoreWashington    65\n",
       "Boise                  65\n",
       "Boston                 62\n",
       "Atlanta                54\n",
       "PhoenixTucson          52\n",
       "BuffaloRochester       51\n",
       "Spokane                49\n",
       "Columbus               47\n",
       "NewYork                44\n",
       "Jacksonville           41\n",
       "Detroit                40\n",
       "SouthCentral           39\n",
       "SanDiego               38\n",
       "West                   36\n",
       "Tampa                  34\n",
       "Louisville             34\n",
       "Portland               30\n",
       "NorthernNewEngland     29\n",
       "Houston                29\n",
       "WestTexNewMexico       27\n",
       "Nashville              25\n",
       "TotalUS                25\n",
       "Denver                 24\n",
       "SouthCarolina          24\n",
       "GrandRapids            23\n",
       "Chicago                23\n",
       "Pittsburgh             22\n",
       "Orlando                21\n",
       "RichmondNorfolk        21\n",
       "HarrisburgScranton     19\n",
       "Syracuse               19\n",
       "GreatLakes             18\n",
       "Midsouth               18\n",
       "DallasFtWorth          17\n",
       "Roanoke                17\n",
       "MiamiFtLauderdale      17\n",
       "Charlotte              16\n",
       "StLouis                16\n",
       "RaleighGreensboro      16\n",
       "Indianapolis           16\n",
       "SanFrancisco           15\n",
       "Philadelphia           13\n",
       "HartfordSpringfield    13\n",
       "Northeast              12\n",
       "Plains                 12\n",
       "LasVegas               10\n",
       "Southeast               9\n",
       "Seattle                 9\n",
       "LosAngeles              3\n",
       "Name: region, dtype: int64"
      ]
     },
     "execution_count": 81,
     "metadata": {},
     "output_type": "execute_result"
    }
   ],
   "source": [
    "df['region'].value_counts()\n",
    "# Some of this data is useless as they are direction(North, East, North-Central etc.). \n",
    "# Also, there are a few states also, but maximum regions are cities. The prediction of regions will have errors.\n",
    "# So,Let's remove ['California', 'GreatLakes', 'Midsouth', 'NewYork', 'Northeast', 'SouthCarolina', 'Plains', 'SouthCentral', 'Southeast', 'TotalUS', 'West']"
   ]
  },
  {
   "cell_type": "code",
   "execution_count": 82,
   "metadata": {},
   "outputs": [],
   "source": [
    "remove=['California', 'GreatLakes', 'Midsouth', 'NewYork', 'Northeast', 'SouthCarolina', 'Plains', \n",
    "        'SouthCentral', 'Southeast', 'TotalUS', 'West']\n",
    "df = df[~df.region.isin(remove)]\n",
    "#This will remove the states and Directions from the dataset and make it clean"
   ]
  },
  {
   "cell_type": "code",
   "execution_count": 83,
   "metadata": {},
   "outputs": [
    {
     "data": {
      "image/png": "[encoded data removed]",
      "text/plain": [
       "<Figure size 1008x504 with 2 Axes>"
      ]
     },
     "metadata": {
      "needs_background": "light"
     },
     "output_type": "display_data"
    }
   ],
   "source": [
    "# Let's see how the numerical variables are correlated\n",
    "plt.figure(figsize=(14,7))\n",
    "sns.heatmap(df.corr(),annot=True)\n",
    "plt.show()\n",
    "# Most of the data features seems to have strong correlations among themselves"
   ]
  },
  {
   "cell_type": "code",
   "execution_count": 84,
   "metadata": {},
   "outputs": [
    {
     "data": {
      "text/plain": [
       "year\n",
       "2015.0    1.062517\n",
       "2016.0    1.156444\n",
       "Name: AveragePrice, dtype: float64"
      ]
     },
     "execution_count": 84,
     "metadata": {},
     "output_type": "execute_result"
    }
   ],
   "source": [
    "# Let's see year wise average price\n",
    "df.groupby('year')['AveragePrice'].mean()\n",
    "# Overall Avg price has increased"
   ]
  },
  {
   "cell_type": "code",
   "execution_count": 85,
   "metadata": {},
   "outputs": [
    {
     "data": {
      "text/html": [
       "<div>\n",
       "<style scoped>\n",
       "    .dataframe tbody tr th:only-of-type {\n",
       "        vertical-align: middle;\n",
       "    }\n",
       "\n",
       "    .dataframe tbody tr th {\n",
       "        vertical-align: top;\n",
       "    }\n",
       "\n",
       "    .dataframe thead th {\n",
       "        text-align: right;\n",
       "    }\n",
       "</style>\n",
       "<table border=\"1\" class=\"dataframe\">\n",
       "  <thead>\n",
       "    <tr style=\"text-align: right;\">\n",
       "      <th></th>\n",
       "      <th>Date</th>\n",
       "      <th>AveragePrice</th>\n",
       "      <th>Total Volume</th>\n",
       "      <th>4046</th>\n",
       "      <th>4225</th>\n",
       "      <th>4770</th>\n",
       "      <th>Total Bags</th>\n",
       "      <th>Small Bags</th>\n",
       "      <th>Large Bags</th>\n",
       "      <th>XLarge Bags</th>\n",
       "      <th>year</th>\n",
       "      <th>region</th>\n",
       "    </tr>\n",
       "  </thead>\n",
       "  <tbody>\n",
       "    <tr>\n",
       "      <th>755</th>\n",
       "      <td>2015-01-02</td>\n",
       "      <td>1.14</td>\n",
       "      <td>569304.80</td>\n",
       "      <td>30263.22</td>\n",
       "      <td>417993.89</td>\n",
       "      <td>1722.10</td>\n",
       "      <td>119325.59</td>\n",
       "      <td>104365.66</td>\n",
       "      <td>14959.93</td>\n",
       "      <td>0.00</td>\n",
       "      <td>2015.0</td>\n",
       "      <td>Philadelphia</td>\n",
       "    </tr>\n",
       "    <tr>\n",
       "      <th>978</th>\n",
       "      <td>2015-01-02</td>\n",
       "      <td>0.91</td>\n",
       "      <td>1352027.64</td>\n",
       "      <td>369580.89</td>\n",
       "      <td>896514.30</td>\n",
       "      <td>20587.92</td>\n",
       "      <td>65344.53</td>\n",
       "      <td>64393.44</td>\n",
       "      <td>832.23</td>\n",
       "      <td>118.86</td>\n",
       "      <td>2015.0</td>\n",
       "      <td>SanFrancisco</td>\n",
       "    </tr>\n",
       "    <tr>\n",
       "      <th>475</th>\n",
       "      <td>2015-01-02</td>\n",
       "      <td>0.72</td>\n",
       "      <td>1280364.01</td>\n",
       "      <td>540024.17</td>\n",
       "      <td>597855.73</td>\n",
       "      <td>8063.40</td>\n",
       "      <td>134420.71</td>\n",
       "      <td>86145.18</td>\n",
       "      <td>48275.53</td>\n",
       "      <td>0.00</td>\n",
       "      <td>2015.0</td>\n",
       "      <td>Houston</td>\n",
       "    </tr>\n",
       "    <tr>\n",
       "      <th>1265</th>\n",
       "      <td>2015-01-02</td>\n",
       "      <td>0.71</td>\n",
       "      <td>916367.42</td>\n",
       "      <td>611270.39</td>\n",
       "      <td>205181.23</td>\n",
       "      <td>14107.36</td>\n",
       "      <td>85808.44</td>\n",
       "      <td>82065.70</td>\n",
       "      <td>3742.74</td>\n",
       "      <td>0.00</td>\n",
       "      <td>2015.0</td>\n",
       "      <td>WestTexNewMexico</td>\n",
       "    </tr>\n",
       "    <tr>\n",
       "      <th>488</th>\n",
       "      <td>2015-01-02</td>\n",
       "      <td>0.92</td>\n",
       "      <td>245352.56</td>\n",
       "      <td>7245.61</td>\n",
       "      <td>181784.28</td>\n",
       "      <td>14761.53</td>\n",
       "      <td>41561.14</td>\n",
       "      <td>20669.59</td>\n",
       "      <td>18130.75</td>\n",
       "      <td>2760.80</td>\n",
       "      <td>2015.0</td>\n",
       "      <td>Indianapolis</td>\n",
       "    </tr>\n",
       "  </tbody>\n",
       "</table>\n",
       "</div>"
      ],
      "text/plain": [
       "           Date  AveragePrice  Total Volume       4046       4225      4770  \\\n",
       "755  2015-01-02          1.14     569304.80   30263.22  417993.89   1722.10   \n",
       "978  2015-01-02          0.91    1352027.64  369580.89  896514.30  20587.92   \n",
       "475  2015-01-02          0.72    1280364.01  540024.17  597855.73   8063.40   \n",
       "1265 2015-01-02          0.71     916367.42  611270.39  205181.23  14107.36   \n",
       "488  2015-01-02          0.92     245352.56    7245.61  181784.28  14761.53   \n",
       "\n",
       "      Total Bags  Small Bags  Large Bags  XLarge Bags    year  \\\n",
       "755    119325.59   104365.66    14959.93         0.00  2015.0   \n",
       "978     65344.53    64393.44      832.23       118.86  2015.0   \n",
       "475    134420.71    86145.18    48275.53         0.00  2015.0   \n",
       "1265    85808.44    82065.70     3742.74         0.00  2015.0   \n",
       "488     41561.14    20669.59    18130.75      2760.80  2015.0   \n",
       "\n",
       "                region  \n",
       "755       Philadelphia  \n",
       "978       SanFrancisco  \n",
       "475            Houston  \n",
       "1265  WestTexNewMexico  \n",
       "488       Indianapolis  "
      ]
     },
     "execution_count": 85,
     "metadata": {},
     "output_type": "execute_result"
    }
   ],
   "source": [
    "# It would be a good idea to sort the dataset based on date\n",
    "\n",
    "df['Date'] =pd.to_datetime(df.Date)\n",
    "df.sort_values(by=['Date'], inplace=True, ascending=True)\n",
    "df.head()"
   ]
  },
  {
   "cell_type": "code",
   "execution_count": 86,
   "metadata": {},
   "outputs": [
    {
     "data": {
      "text/html": [
       "<div>\n",
       "<style scoped>\n",
       "    .dataframe tbody tr th:only-of-type {\n",
       "        vertical-align: middle;\n",
       "    }\n",
       "\n",
       "    .dataframe tbody tr th {\n",
       "        vertical-align: top;\n",
       "    }\n",
       "\n",
       "    .dataframe thead th {\n",
       "        text-align: right;\n",
       "    }\n",
       "</style>\n",
       "<table border=\"1\" class=\"dataframe\">\n",
       "  <thead>\n",
       "    <tr style=\"text-align: right;\">\n",
       "      <th></th>\n",
       "      <th>Date</th>\n",
       "      <th>AveragePrice</th>\n",
       "      <th>Total Volume</th>\n",
       "      <th>4046</th>\n",
       "      <th>4225</th>\n",
       "      <th>4770</th>\n",
       "      <th>Total Bags</th>\n",
       "      <th>Small Bags</th>\n",
       "      <th>Large Bags</th>\n",
       "      <th>XLarge Bags</th>\n",
       "      <th>year</th>\n",
       "    </tr>\n",
       "  </thead>\n",
       "  <tbody>\n",
       "    <tr>\n",
       "      <th>0</th>\n",
       "      <td>2015-01-02</td>\n",
       "      <td>17.94</td>\n",
       "      <td>11813462.95</td>\n",
       "      <td>5364635.59</td>\n",
       "      <td>4868218.30</td>\n",
       "      <td>204797.10</td>\n",
       "      <td>1375811.96</td>\n",
       "      <td>1061634.25</td>\n",
       "      <td>311241.45</td>\n",
       "      <td>2936.26</td>\n",
       "      <td>38285.0</td>\n",
       "    </tr>\n",
       "    <tr>\n",
       "      <th>1</th>\n",
       "      <td>2015-01-03</td>\n",
       "      <td>23.86</td>\n",
       "      <td>9580406.30</td>\n",
       "      <td>4001795.06</td>\n",
       "      <td>3949817.67</td>\n",
       "      <td>252067.34</td>\n",
       "      <td>1376726.23</td>\n",
       "      <td>1129333.53</td>\n",
       "      <td>237167.67</td>\n",
       "      <td>10225.03</td>\n",
       "      <td>46345.0</td>\n",
       "    </tr>\n",
       "    <tr>\n",
       "      <th>2</th>\n",
       "      <td>2015-01-11</td>\n",
       "      <td>18.66</td>\n",
       "      <td>5779718.08</td>\n",
       "      <td>1967334.82</td>\n",
       "      <td>2433398.50</td>\n",
       "      <td>275716.11</td>\n",
       "      <td>1103268.65</td>\n",
       "      <td>930352.37</td>\n",
       "      <td>147850.98</td>\n",
       "      <td>25065.30</td>\n",
       "      <td>36270.0</td>\n",
       "    </tr>\n",
       "    <tr>\n",
       "      <th>3</th>\n",
       "      <td>2015-01-18</td>\n",
       "      <td>17.57</td>\n",
       "      <td>9408650.07</td>\n",
       "      <td>4726025.82</td>\n",
       "      <td>3229408.74</td>\n",
       "      <td>171137.51</td>\n",
       "      <td>1282078.00</td>\n",
       "      <td>1080360.99</td>\n",
       "      <td>198819.84</td>\n",
       "      <td>2897.17</td>\n",
       "      <td>32240.0</td>\n",
       "    </tr>\n",
       "    <tr>\n",
       "      <th>4</th>\n",
       "      <td>2015-01-25</td>\n",
       "      <td>18.17</td>\n",
       "      <td>7651709.97</td>\n",
       "      <td>3632755.22</td>\n",
       "      <td>2750136.69</td>\n",
       "      <td>112256.97</td>\n",
       "      <td>1156561.09</td>\n",
       "      <td>974928.39</td>\n",
       "      <td>181514.55</td>\n",
       "      <td>118.15</td>\n",
       "      <td>34255.0</td>\n",
       "    </tr>\n",
       "  </tbody>\n",
       "</table>\n",
       "</div>"
      ],
      "text/plain": [
       "        Date  AveragePrice  Total Volume        4046        4225       4770  \\\n",
       "0 2015-01-02         17.94   11813462.95  5364635.59  4868218.30  204797.10   \n",
       "1 2015-01-03         23.86    9580406.30  4001795.06  3949817.67  252067.34   \n",
       "2 2015-01-11         18.66    5779718.08  1967334.82  2433398.50  275716.11   \n",
       "3 2015-01-18         17.57    9408650.07  4726025.82  3229408.74  171137.51   \n",
       "4 2015-01-25         18.17    7651709.97  3632755.22  2750136.69  112256.97   \n",
       "\n",
       "   Total Bags  Small Bags  Large Bags  XLarge Bags     year  \n",
       "0  1375811.96  1061634.25   311241.45      2936.26  38285.0  \n",
       "1  1376726.23  1129333.53   237167.67     10225.03  46345.0  \n",
       "2  1103268.65   930352.37   147850.98     25065.30  36270.0  \n",
       "3  1282078.00  1080360.99   198819.84      2897.17  32240.0  \n",
       "4  1156561.09   974928.39   181514.55       118.15  34255.0  "
      ]
     },
     "execution_count": 86,
     "metadata": {},
     "output_type": "execute_result"
    }
   ],
   "source": [
    "df_date = df.groupby('Date').sum().reset_index()\n",
    "df_date.head()"
   ]
  },
  {
   "cell_type": "code",
   "execution_count": 87,
   "metadata": {},
   "outputs": [
    {
     "data": {
      "image/png": "[encoded data removed]",
      "text/plain": [
       "<Figure size 1080x360 with 1 Axes>"
      ]
     },
     "metadata": {
      "needs_background": "light"
     },
     "output_type": "display_data"
    }
   ],
   "source": [
    "# Plotting All with respect to Date to see bags\n",
    "\n",
    "plt.figure(figsize=(15, 5))\n",
    "plt.plot(df_date['Date'], df_date['Small Bags'],color='red',label='Small')\n",
    "plt.plot(df_date['Date'], df_date['Large Bags'],color='green',label='Large')\n",
    "plt.plot(df_date['Date'], df_date['XLarge Bags'], color='blue',label='X Large')\n",
    "plt.plot(df_date['Date'], df_date['Total Bags'], color='black',label='Total')\n",
    "plt.title('Bags - Date wise Plot')\n",
    "plt.legend()\n",
    "plt.show()\n",
    "\n",
    "# XLarge Bags are the least, Large are little more but maximum are the small bags. Also, the fluctuation is very high in case of small bags"
   ]
  },
  {
   "cell_type": "code",
   "execution_count": 88,
   "metadata": {},
   "outputs": [
    {
     "data": {
      "image/png": "[encoded data removed]",
      "text/plain": [
       "<Figure size 1080x360 with 1 Axes>"
      ]
     },
     "metadata": {
      "needs_background": "light"
     },
     "output_type": "display_data"
    }
   ],
   "source": [
    "# Plotting All with respect to Date to see bags\n",
    "\n",
    "plt.figure(figsize=(15, 5))\n",
    "plt.plot(df_date['Date'], df_date['4770'],color='red',label='PLU 4770 sold')\n",
    "plt.plot(df_date['Date'], df_date['4225'],color='green',label='PLU 4225 sold')\n",
    "plt.plot(df_date['Date'], df_date['4046'], color='blue',label='PLU 4046 sold')\n",
    "plt.plot(df_date['Date'], df_date['Total Volume'], color='black',label='Total Sold')\n",
    "plt.title('Volume Sold - Date wise Plot')\n",
    "plt.legend()\n",
    "plt.show()\n",
    "# PLU 4770 are the least, PLU 4225 and PLU 4046 are almost equal. "
   ]
  },
  {
   "cell_type": "code",
   "execution_count": 89,
   "metadata": {},
   "outputs": [
    {
     "data": {
      "image/png": "[encoded data removed]",
      "text/plain": [
       "<Figure size 1080x360 with 1 Axes>"
      ]
     },
     "metadata": {
      "needs_background": "light"
     },
     "output_type": "display_data"
    }
   ],
   "source": [
    "# Plotting Average Price respect to Date\n",
    "\n",
    "plt.figure(figsize=(15, 5))\n",
    "plt.plot(df_date['Date'], df_date['AveragePrice'],color='red',label='Avg_Price')\n",
    "plt.title('Average Price Trend')\n",
    "plt.show()"
   ]
  },
  {
   "cell_type": "code",
   "execution_count": 90,
   "metadata": {},
   "outputs": [],
   "source": [
    "# As date format is not suitable for analysis, let's remove Date column\n",
    "df = df.drop(['Date'], axis = 1)\n"
   ]
  },
  {
   "cell_type": "code",
   "execution_count": 91,
   "metadata": {},
   "outputs": [
    {
     "data": {
      "text/plain": [
       "<matplotlib.axes._subplots.AxesSubplot at 0x8bda970188>"
      ]
     },
     "execution_count": 91,
     "metadata": {},
     "output_type": "execute_result"
    },
    {
     "data": {
      "image/png": "[encoded data removed]",
      "text/plain": [
       "<Figure size 1008x576 with 1 Axes>"
      ]
     },
     "metadata": {
      "needs_background": "light"
     },
     "output_type": "display_data"
    }
   ],
   "source": [
    "# Let's see the average prices by regions\n",
    "plt.figure(figsize=(14,8))\n",
    "plt.title(\"Avg.Price - Region\")\n",
    "plt.xticks(rotation=90)\n",
    "sns.barplot(x=\"region\",y=\"AveragePrice\",data= df)"
   ]
  },
  {
   "cell_type": "code",
   "execution_count": 92,
   "metadata": {},
   "outputs": [],
   "source": [
    "# Total Bags = Small Bags + Large Bags + XLarge Bags. Let's drop Total Bags as it is dependent feature\n",
    "df = df.drop(['Total Bags'], axis = 1)\n",
    "# Similarly,let's drop Total Volume column.\n",
    "df = df.drop(['Total Volume'], axis = 1)"
   ]
  },
  {
   "cell_type": "code",
   "execution_count": 93,
   "metadata": {},
   "outputs": [
    {
     "data": {
      "text/plain": [
       "array([[<matplotlib.axes._subplots.AxesSubplot object at 0x0000008BDA97CC88>,\n",
       "        <matplotlib.axes._subplots.AxesSubplot object at 0x0000008BDAD39508>,\n",
       "        <matplotlib.axes._subplots.AxesSubplot object at 0x0000008BDAADF6C8>,\n",
       "        <matplotlib.axes._subplots.AxesSubplot object at 0x0000008BDAB15CC8>],\n",
       "       [<matplotlib.axes._subplots.AxesSubplot object at 0x0000008BDAB4F908>,\n",
       "        <matplotlib.axes._subplots.AxesSubplot object at 0x0000008BDAB885C8>,\n",
       "        <matplotlib.axes._subplots.AxesSubplot object at 0x0000008BDABC5E48>,\n",
       "        <matplotlib.axes._subplots.AxesSubplot object at 0x0000008BDABF8788>],\n",
       "       [<matplotlib.axes._subplots.AxesSubplot object at 0x0000008BDAC03388>,\n",
       "        <matplotlib.axes._subplots.AxesSubplot object at 0x0000008BDAC3C548>,\n",
       "        <matplotlib.axes._subplots.AxesSubplot object at 0x0000008BDACA2C48>,\n",
       "        <matplotlib.axes._subplots.AxesSubplot object at 0x0000008BDACDBD88>],\n",
       "       [<matplotlib.axes._subplots.AxesSubplot object at 0x0000008BDAD63F48>,\n",
       "        <matplotlib.axes._subplots.AxesSubplot object at 0x0000008BDAD9E188>,\n",
       "        <matplotlib.axes._subplots.AxesSubplot object at 0x0000008BDADD6348>,\n",
       "        <matplotlib.axes._subplots.AxesSubplot object at 0x0000008BDAE0F508>]],\n",
       "      dtype=object)"
      ]
     },
     "execution_count": 93,
     "metadata": {},
     "output_type": "execute_result"
    },
    {
     "data": {
      "image/png": "[encoded data removed]",
      "text/plain": [
       "<Figure size 1440x1440 with 16 Axes>"
      ]
     },
     "metadata": {
      "needs_background": "light"
     },
     "output_type": "display_data"
    }
   ],
   "source": [
    "df.hist(figsize=(20,20),grid=True,layout=(4,4),bins=30)"
   ]
  },
  {
   "cell_type": "code",
   "execution_count": 94,
   "metadata": {},
   "outputs": [
    {
     "name": "stdout",
     "output_type": "stream",
     "text": [
      "AveragePrice   -0.308528\n",
      "4046            2.723563\n",
      "4225            1.306909\n",
      "4770            2.709806\n",
      "Small Bags      1.682969\n",
      "Large Bags      4.403752\n",
      "XLarge Bags     6.527399\n",
      "year            1.947696\n",
      "dtype: float64\n"
     ]
    }
   ],
   "source": [
    "# Other than AvgPrice, other variables seem to be skewed.\n",
    "# Let's check for skewness\n",
    "print(df.skew())\n",
    "#There is a lot of skewness present in the data. Let's transform them."
   ]
  },
  {
   "cell_type": "code",
   "execution_count": 95,
   "metadata": {},
   "outputs": [
    {
     "data": {
      "text/plain": [
       "AveragePrice   -0.308528\n",
       "4046           -0.471690\n",
       "4225           -0.333008\n",
       "4770           -0.502731\n",
       "Small Bags     -0.304419\n",
       "Large Bags     -0.969533\n",
       "XLarge Bags     1.055750\n",
       "year            1.947696\n",
       "dtype: float64"
      ]
     },
     "execution_count": 95,
     "metadata": {},
     "output_type": "execute_result"
    }
   ],
   "source": [
    "import numpy as np\n",
    "for col in df.columns:\n",
    "    if df[col].dtypes!=\"object\":\n",
    "        if df.skew().loc[col]>0.55:\n",
    "            df[col]=np.log1p(df[col])\n",
    "        \n",
    "df.skew()\n",
    "# We have successfully removed a lot of skewness"
   ]
  },
  {
   "cell_type": "code",
   "execution_count": 96,
   "metadata": {},
   "outputs": [
    {
     "data": {
      "text/plain": [
       "AveragePrice    float64\n",
       "4046            float64\n",
       "4225            float64\n",
       "4770            float64\n",
       "Small Bags      float64\n",
       "Large Bags      float64\n",
       "XLarge Bags     float64\n",
       "year            float64\n",
       "region           object\n",
       "dtype: object"
      ]
     },
     "execution_count": 96,
     "metadata": {},
     "output_type": "execute_result"
    }
   ],
   "source": [
    "df.dtypes\n",
    "#Let's do Label Encoding for regions"
   ]
  },
  {
   "cell_type": "code",
   "execution_count": 97,
   "metadata": {},
   "outputs": [],
   "source": [
    "from sklearn import preprocessing\n",
    "le = preprocessing.LabelEncoder()\n",
    "df['region']=le.fit_transform(df['region'])"
   ]
  },
  {
   "cell_type": "code",
   "execution_count": 98,
   "metadata": {},
   "outputs": [
    {
     "data": {
      "text/html": [
       "<div>\n",
       "<style scoped>\n",
       "    .dataframe tbody tr th:only-of-type {\n",
       "        vertical-align: middle;\n",
       "    }\n",
       "\n",
       "    .dataframe tbody tr th {\n",
       "        vertical-align: top;\n",
       "    }\n",
       "\n",
       "    .dataframe thead th {\n",
       "        text-align: right;\n",
       "    }\n",
       "</style>\n",
       "<table border=\"1\" class=\"dataframe\">\n",
       "  <thead>\n",
       "    <tr style=\"text-align: right;\">\n",
       "      <th></th>\n",
       "      <th>AveragePrice</th>\n",
       "      <th>4046</th>\n",
       "      <th>4225</th>\n",
       "      <th>4770</th>\n",
       "      <th>Small Bags</th>\n",
       "      <th>Large Bags</th>\n",
       "      <th>XLarge Bags</th>\n",
       "      <th>year</th>\n",
       "      <th>region</th>\n",
       "    </tr>\n",
       "  </thead>\n",
       "  <tbody>\n",
       "    <tr>\n",
       "      <th>755</th>\n",
       "      <td>1.14</td>\n",
       "      <td>10.317721</td>\n",
       "      <td>12.943224</td>\n",
       "      <td>7.451880</td>\n",
       "      <td>11.555666</td>\n",
       "      <td>9.613197</td>\n",
       "      <td>0.000000</td>\n",
       "      <td>7.608871</td>\n",
       "      <td>25</td>\n",
       "    </tr>\n",
       "    <tr>\n",
       "      <th>978</th>\n",
       "      <td>0.91</td>\n",
       "      <td>12.820128</td>\n",
       "      <td>13.706271</td>\n",
       "      <td>9.932508</td>\n",
       "      <td>11.072783</td>\n",
       "      <td>6.725310</td>\n",
       "      <td>4.786324</td>\n",
       "      <td>7.608871</td>\n",
       "      <td>33</td>\n",
       "    </tr>\n",
       "    <tr>\n",
       "      <th>475</th>\n",
       "      <td>0.72</td>\n",
       "      <td>13.199371</td>\n",
       "      <td>13.301106</td>\n",
       "      <td>8.995215</td>\n",
       "      <td>11.363801</td>\n",
       "      <td>10.784701</td>\n",
       "      <td>0.000000</td>\n",
       "      <td>7.608871</td>\n",
       "      <td>15</td>\n",
       "    </tr>\n",
       "    <tr>\n",
       "      <th>1265</th>\n",
       "      <td>0.71</td>\n",
       "      <td>13.323296</td>\n",
       "      <td>12.231654</td>\n",
       "      <td>9.554523</td>\n",
       "      <td>11.315288</td>\n",
       "      <td>8.227840</td>\n",
       "      <td>0.000000</td>\n",
       "      <td>7.608871</td>\n",
       "      <td>39</td>\n",
       "    </tr>\n",
       "    <tr>\n",
       "      <th>488</th>\n",
       "      <td>0.92</td>\n",
       "      <td>8.888289</td>\n",
       "      <td>12.110581</td>\n",
       "      <td>9.599847</td>\n",
       "      <td>9.936467</td>\n",
       "      <td>9.805420</td>\n",
       "      <td>7.923638</td>\n",
       "      <td>7.608871</td>\n",
       "      <td>16</td>\n",
       "    </tr>\n",
       "  </tbody>\n",
       "</table>\n",
       "</div>"
      ],
      "text/plain": [
       "      AveragePrice       4046       4225      4770  Small Bags  Large Bags  \\\n",
       "755           1.14  10.317721  12.943224  7.451880   11.555666    9.613197   \n",
       "978           0.91  12.820128  13.706271  9.932508   11.072783    6.725310   \n",
       "475           0.72  13.199371  13.301106  8.995215   11.363801   10.784701   \n",
       "1265          0.71  13.323296  12.231654  9.554523   11.315288    8.227840   \n",
       "488           0.92   8.888289  12.110581  9.599847    9.936467    9.805420   \n",
       "\n",
       "      XLarge Bags      year  region  \n",
       "755      0.000000  7.608871      25  \n",
       "978      4.786324  7.608871      33  \n",
       "475      0.000000  7.608871      15  \n",
       "1265     0.000000  7.608871      39  \n",
       "488      7.923638  7.608871      16  "
      ]
     },
     "execution_count": 98,
     "metadata": {},
     "output_type": "execute_result"
    }
   ],
   "source": [
    "df.head()"
   ]
  },
  {
   "cell_type": "code",
   "execution_count": 99,
   "metadata": {},
   "outputs": [
    {
     "name": "stdout",
     "output_type": "stream",
     "text": [
      "(1189, 9)\n",
      "(1186, 9)\n"
     ]
    }
   ],
   "source": [
    "from scipy.stats import zscore\n",
    "z = abs(zscore(df))\n",
    "print(df.shape)\n",
    "df=df[(z<3).all(axis=1)]\n",
    "print(df.shape)\n",
    "# Let's trear the outliers if any"
   ]
  },
  {
   "cell_type": "markdown",
   "metadata": {},
   "source": [
    "# Part 1: Average Price"
   ]
  },
  {
   "cell_type": "code",
   "execution_count": 100,
   "metadata": {},
   "outputs": [],
   "source": [
    "# Let's Separate our dataset into Features and target\n",
    "df_av=df\n",
    "df_x=df_av.drop(columns=[\"AveragePrice\"])\n",
    "y=df_av[[\"AveragePrice\"]]"
   ]
  },
  {
   "cell_type": "code",
   "execution_count": 101,
   "metadata": {},
   "outputs": [
    {
     "data": {
      "text/html": [
       "<div>\n",
       "<style scoped>\n",
       "    .dataframe tbody tr th:only-of-type {\n",
       "        vertical-align: middle;\n",
       "    }\n",
       "\n",
       "    .dataframe tbody tr th {\n",
       "        vertical-align: top;\n",
       "    }\n",
       "\n",
       "    .dataframe thead th {\n",
       "        text-align: right;\n",
       "    }\n",
       "</style>\n",
       "<table border=\"1\" class=\"dataframe\">\n",
       "  <thead>\n",
       "    <tr style=\"text-align: right;\">\n",
       "      <th></th>\n",
       "      <th>4046</th>\n",
       "      <th>4225</th>\n",
       "      <th>4770</th>\n",
       "      <th>Small Bags</th>\n",
       "      <th>Large Bags</th>\n",
       "      <th>XLarge Bags</th>\n",
       "      <th>year</th>\n",
       "      <th>region</th>\n",
       "    </tr>\n",
       "  </thead>\n",
       "  <tbody>\n",
       "    <tr>\n",
       "      <th>0</th>\n",
       "      <td>-0.132434</td>\n",
       "      <td>1.270278</td>\n",
       "      <td>-0.197298</td>\n",
       "      <td>1.014432</td>\n",
       "      <td>0.829104</td>\n",
       "      <td>-0.700721</td>\n",
       "      <td>-0.420223</td>\n",
       "      <td>0.683860</td>\n",
       "    </tr>\n",
       "    <tr>\n",
       "      <th>1</th>\n",
       "      <td>1.110285</td>\n",
       "      <td>1.861836</td>\n",
       "      <td>0.870139</td>\n",
       "      <td>0.464656</td>\n",
       "      <td>-0.065050</td>\n",
       "      <td>0.905964</td>\n",
       "      <td>-0.420223</td>\n",
       "      <td>1.322489</td>\n",
       "    </tr>\n",
       "    <tr>\n",
       "      <th>2</th>\n",
       "      <td>1.298622</td>\n",
       "      <td>1.547729</td>\n",
       "      <td>0.466813</td>\n",
       "      <td>0.795989</td>\n",
       "      <td>1.191827</td>\n",
       "      <td>-0.700721</td>\n",
       "      <td>-0.420223</td>\n",
       "      <td>-0.114425</td>\n",
       "    </tr>\n",
       "    <tr>\n",
       "      <th>3</th>\n",
       "      <td>1.360164</td>\n",
       "      <td>0.718628</td>\n",
       "      <td>0.707488</td>\n",
       "      <td>0.740755</td>\n",
       "      <td>0.400167</td>\n",
       "      <td>-0.700721</td>\n",
       "      <td>-0.420223</td>\n",
       "      <td>1.801460</td>\n",
       "    </tr>\n",
       "    <tr>\n",
       "      <th>4</th>\n",
       "      <td>-0.842305</td>\n",
       "      <td>0.624765</td>\n",
       "      <td>0.726992</td>\n",
       "      <td>-0.829072</td>\n",
       "      <td>0.888620</td>\n",
       "      <td>1.959105</td>\n",
       "      <td>-0.420223</td>\n",
       "      <td>-0.034597</td>\n",
       "    </tr>\n",
       "  </tbody>\n",
       "</table>\n",
       "</div>"
      ],
      "text/plain": [
       "       4046      4225      4770  Small Bags  Large Bags  XLarge Bags  \\\n",
       "0 -0.132434  1.270278 -0.197298    1.014432    0.829104    -0.700721   \n",
       "1  1.110285  1.861836  0.870139    0.464656   -0.065050     0.905964   \n",
       "2  1.298622  1.547729  0.466813    0.795989    1.191827    -0.700721   \n",
       "3  1.360164  0.718628  0.707488    0.740755    0.400167    -0.700721   \n",
       "4 -0.842305  0.624765  0.726992   -0.829072    0.888620     1.959105   \n",
       "\n",
       "       year    region  \n",
       "0 -0.420223  0.683860  \n",
       "1 -0.420223  1.322489  \n",
       "2 -0.420223 -0.114425  \n",
       "3 -0.420223  1.801460  \n",
       "4 -0.420223 -0.034597  "
      ]
     },
     "execution_count": 101,
     "metadata": {},
     "output_type": "execute_result"
    }
   ],
   "source": [
    "#Lets scale the parameters\n",
    "from sklearn.preprocessing import StandardScaler\n",
    "sc=StandardScaler()\n",
    "x=sc.fit_transform(df_x)\n",
    "x=pd.DataFrame(x,columns=df_x.columns)\n",
    "x.head()"
   ]
  },
  {
   "cell_type": "code",
   "execution_count": 102,
   "metadata": {},
   "outputs": [],
   "source": [
    "#to find random stat which gives maximum r2_score\n",
    "from sklearn.metrics import mean_absolute_error\n",
    "from sklearn.metrics import mean_squared_error\n",
    "from sklearn.metrics import r2_score\n",
    "from sklearn.model_selection import train_test_split\n",
    "def maxr2_score(model,x,y):\n",
    "    max_r_score=0\n",
    "    for r_state in range(42,101):\n",
    "        x_train, x_test, y_train, y_test = train_test_split(x, y,random_state = r_state,test_size=0.20)\n",
    "        model.fit(x_train,y_train)\n",
    "        y_pred = model.predict(x_test)\n",
    "        r2_scr=r2_score(y_test,y_pred)\n",
    "        if r2_scr>max_r_score:\n",
    "            max_r_score=r2_scr\n",
    "            final_r_state=r_state\n",
    "    print(\"max r2 score corresponding to \",final_r_state,\" is \",max_r_score)\n",
    "    return final_r_state"
   ]
  },
  {
   "cell_type": "code",
   "execution_count": 103,
   "metadata": {},
   "outputs": [],
   "source": [
    "#lets make a function which evaluates the model using cross_val_score\n",
    "from sklearn.model_selection import cross_val_score\n",
    "def model_evaluation(model,x,y):\n",
    "    c_scores=cross_val_score(model,x,y,cv=5,scoring=\"r2\")\n",
    "    print(\"Mean r2 score for regressor: \",c_scores.mean())\n",
    "    print(\"standard deviation in r2 score for regressor: \",c_scores.std())\n",
    "    print(c_scores)"
   ]
  },
  {
   "cell_type": "markdown",
   "metadata": {},
   "source": [
    "# We need Regression so let's start with\n",
    "# Linear Regression"
   ]
  },
  {
   "cell_type": "code",
   "execution_count": 104,
   "metadata": {},
   "outputs": [
    {
     "name": "stdout",
     "output_type": "stream",
     "text": [
      "max r2 score corresponding to  46  is  0.41717712253975114\n"
     ]
    }
   ],
   "source": [
    "from sklearn.linear_model import LinearRegression\n",
    "lm=LinearRegression()\n",
    "r_state=maxr2_score(lm,x,y)"
   ]
  },
  {
   "cell_type": "markdown",
   "metadata": {},
   "source": [
    "# Random Forest Regressor"
   ]
  },
  {
   "cell_type": "code",
   "execution_count": 105,
   "metadata": {},
   "outputs": [
    {
     "data": {
      "text/plain": [
       "{'n_estimators': 250}"
      ]
     },
     "execution_count": 105,
     "metadata": {},
     "output_type": "execute_result"
    }
   ],
   "source": [
    "from sklearn.ensemble import RandomForestRegressor\n",
    "from sklearn.model_selection import GridSearchCV\n",
    "rfr=RandomForestRegressor()\n",
    "parameters = {\"n_estimators\":[10,50,100,150,200,250,500]}\n",
    "clf = GridSearchCV(rfr, parameters, cv=5,scoring=\"r2\")\n",
    "clf.fit(x,y)\n",
    "clf.best_params_"
   ]
  },
  {
   "cell_type": "code",
   "execution_count": 106,
   "metadata": {},
   "outputs": [
    {
     "name": "stdout",
     "output_type": "stream",
     "text": [
      "max r2 score corresponding to  55  is  0.8808402281867941\n"
     ]
    }
   ],
   "source": [
    "rfr=RandomForestRegressor(n_estimators=250)\n",
    "r_state=maxr2_score(rfr,x,y)"
   ]
  },
  {
   "cell_type": "markdown",
   "metadata": {},
   "source": [
    "# KNN Regressor"
   ]
  },
  {
   "cell_type": "code",
   "execution_count": 107,
   "metadata": {},
   "outputs": [
    {
     "data": {
      "text/plain": [
       "{'n_neighbors': 3}"
      ]
     },
     "execution_count": 107,
     "metadata": {},
     "output_type": "execute_result"
    }
   ],
   "source": [
    "from sklearn.neighbors import KNeighborsRegressor\n",
    "knr=KNeighborsRegressor()\n",
    "parameters = {\"n_neighbors\":range(2,20)}\n",
    "clf = GridSearchCV(knr, parameters, cv=5,scoring=\"r2\")\n",
    "clf.fit(x, y)\n",
    "clf.best_params_"
   ]
  },
  {
   "cell_type": "code",
   "execution_count": 108,
   "metadata": {},
   "outputs": [
    {
     "name": "stdout",
     "output_type": "stream",
     "text": [
      "max r2 score corresponding to  55  is  0.8511201060099634\n"
     ]
    }
   ],
   "source": [
    "knr=KNeighborsRegressor(n_neighbors=3)\n",
    "r_state=maxr2_score(knr,x,y)"
   ]
  },
  {
   "cell_type": "markdown",
   "metadata": {},
   "source": [
    "# SVR"
   ]
  },
  {
   "cell_type": "code",
   "execution_count": 109,
   "metadata": {},
   "outputs": [
    {
     "data": {
      "text/plain": [
       "{'C': 1, 'kernel': 'rbf'}"
      ]
     },
     "execution_count": 109,
     "metadata": {},
     "output_type": "execute_result"
    }
   ],
   "source": [
    "from sklearn.svm import SVR\n",
    "import warnings\n",
    "warnings.filterwarnings(\"ignore\")\n",
    "svr=SVR()\n",
    "parameters={\"kernel\":[\"linear\", \"poly\", \"rbf\"],\"C\":[0.001,0.01,0.1,1,10]}\n",
    "clf = GridSearchCV(svr, parameters, cv=5,scoring=\"r2\")\n",
    "clf.fit(x,y)\n",
    "clf.best_params_"
   ]
  },
  {
   "cell_type": "code",
   "execution_count": 110,
   "metadata": {},
   "outputs": [
    {
     "name": "stdout",
     "output_type": "stream",
     "text": [
      "max r2 score corresponding to  55  is  0.8172076282595901\n"
     ]
    }
   ],
   "source": [
    "svr=SVR(kernel=\"rbf\",C=1)\n",
    "r_state=maxr2_score(svr,x,y) "
   ]
  },
  {
   "cell_type": "markdown",
   "metadata": {},
   "source": [
    "# Cross Validation"
   ]
  },
  {
   "cell_type": "code",
   "execution_count": 111,
   "metadata": {},
   "outputs": [
    {
     "name": "stdout",
     "output_type": "stream",
     "text": [
      "\n",
      "\n",
      "Linear Regression\n",
      "\n",
      "\n",
      "Mean r2 score for regressor:  0.24813904073129717\n",
      "standard deviation in r2 score for regressor:  0.1799164624637718\n",
      "[ 0.37657904  0.32784047  0.29886534  0.34555436 -0.10814401]\n",
      "\n",
      "\n",
      "Random Forest REGRESSOR\n",
      "\n",
      "\n",
      "Mean r2 score for regressor:  0.6892198272611987\n",
      "standard deviation in r2 score for regressor:  0.21779829562819544\n",
      "[0.81872792 0.83358076 0.80787489 0.72582198 0.26009359]\n",
      "\n",
      "\n",
      "KNN REGRESSOR\n",
      "\n",
      "\n",
      "Mean r2 score for regressor:  0.6757642034802347\n",
      "standard deviation in r2 score for regressor:  0.15918000619388253\n",
      "[0.78480192 0.7924906  0.74075238 0.69574402 0.3650321 ]\n",
      "\n",
      "\n",
      "SVM REGRESSOR\n",
      "\n",
      "\n",
      "Mean r2 score for regressor:  0.5773089025901031\n",
      "standard deviation in r2 score for regressor:  0.3183350392991805\n",
      "[ 0.74625307  0.75561394  0.75063394  0.69172888 -0.05768532]\n"
     ]
    }
   ],
   "source": [
    "print(\"\\n\\nLinear Regression\\n\\n\")\n",
    "model_evaluation(lm,x,y)\n",
    "\n",
    "print(\"\\n\\nRandom Forest REGRESSOR\\n\\n\")\n",
    "model_evaluation(rfr,x,y)\n",
    "\n",
    "print(\"\\n\\nKNN REGRESSOR\\n\\n\")\n",
    "model_evaluation(knr,x,y)\n",
    "\n",
    "print(\"\\n\\nSVM REGRESSOR\\n\\n\")\n",
    "model_evaluation(svr,x,y)\n"
   ]
  },
  {
   "cell_type": "markdown",
   "metadata": {},
   "source": [
    "# Based on above results let's select Random Forest REGRESSOR"
   ]
  },
  {
   "cell_type": "code",
   "execution_count": 112,
   "metadata": {},
   "outputs": [],
   "source": [
    "x_train, x_test, y_train, y_test = train_test_split(x, y,random_state = 55,test_size=0.20)\n",
    "rfr.fit(x_train,y_train)\n",
    "y_pred = rfr.predict(x_test)"
   ]
  },
  {
   "cell_type": "code",
   "execution_count": 113,
   "metadata": {},
   "outputs": [
    {
     "name": "stdout",
     "output_type": "stream",
     "text": [
      "RMSE is:  0.06898824062503578\n",
      "r2_score is:  0.878531842351651\n"
     ]
    }
   ],
   "source": [
    "#Lets find the rmse and r2_score using sklearn.metrics for RFR model\n",
    "import numpy as np\n",
    "from sklearn.metrics import r2_score\n",
    "from sklearn.metrics import mean_squared_error\n",
    "print(\"RMSE is: \",np.sqrt(mean_squared_error(y_test,y_pred)))\n",
    "print(\"r2_score is: \",r2_score(y_test,y_pred))"
   ]
  },
  {
   "cell_type": "code",
   "execution_count": 114,
   "metadata": {},
   "outputs": [
    {
     "data": {
      "text/plain": [
       "['AvgPrice_Avocado.pkl']"
      ]
     },
     "execution_count": 114,
     "metadata": {},
     "output_type": "execute_result"
    }
   ],
   "source": [
    "from sklearn.externals import joblib\n",
    "joblib.dump(rfr,'AvgPrice_Avocado.pkl')"
   ]
  },
  {
   "cell_type": "markdown",
   "metadata": {},
   "source": [
    "# Part 2: Region"
   ]
  },
  {
   "cell_type": "code",
   "execution_count": 115,
   "metadata": {},
   "outputs": [],
   "source": [
    "# Let's Separate our dataset into Features and target\n",
    "df_re=df\n",
    "df_x=df_re.drop(columns=[\"region\"])\n",
    "y=df_re[[\"region\"]]"
   ]
  },
  {
   "cell_type": "code",
   "execution_count": 116,
   "metadata": {},
   "outputs": [
    {
     "data": {
      "text/html": [
       "<div>\n",
       "<style scoped>\n",
       "    .dataframe tbody tr th:only-of-type {\n",
       "        vertical-align: middle;\n",
       "    }\n",
       "\n",
       "    .dataframe tbody tr th {\n",
       "        vertical-align: top;\n",
       "    }\n",
       "\n",
       "    .dataframe thead th {\n",
       "        text-align: right;\n",
       "    }\n",
       "</style>\n",
       "<table border=\"1\" class=\"dataframe\">\n",
       "  <thead>\n",
       "    <tr style=\"text-align: right;\">\n",
       "      <th></th>\n",
       "      <th>AveragePrice</th>\n",
       "      <th>4046</th>\n",
       "      <th>4225</th>\n",
       "      <th>4770</th>\n",
       "      <th>Small Bags</th>\n",
       "      <th>Large Bags</th>\n",
       "      <th>XLarge Bags</th>\n",
       "      <th>year</th>\n",
       "    </tr>\n",
       "  </thead>\n",
       "  <tbody>\n",
       "    <tr>\n",
       "      <th>0</th>\n",
       "      <td>0.334326</td>\n",
       "      <td>-0.132434</td>\n",
       "      <td>1.270278</td>\n",
       "      <td>-0.197298</td>\n",
       "      <td>1.014432</td>\n",
       "      <td>0.829104</td>\n",
       "      <td>-0.700721</td>\n",
       "      <td>-0.420223</td>\n",
       "    </tr>\n",
       "    <tr>\n",
       "      <th>1</th>\n",
       "      <td>-0.888487</td>\n",
       "      <td>1.110285</td>\n",
       "      <td>1.861836</td>\n",
       "      <td>0.870139</td>\n",
       "      <td>0.464656</td>\n",
       "      <td>-0.065050</td>\n",
       "      <td>0.905964</td>\n",
       "      <td>-0.420223</td>\n",
       "    </tr>\n",
       "    <tr>\n",
       "      <th>2</th>\n",
       "      <td>-1.898637</td>\n",
       "      <td>1.298622</td>\n",
       "      <td>1.547729</td>\n",
       "      <td>0.466813</td>\n",
       "      <td>0.795989</td>\n",
       "      <td>1.191827</td>\n",
       "      <td>-0.700721</td>\n",
       "      <td>-0.420223</td>\n",
       "    </tr>\n",
       "    <tr>\n",
       "      <th>3</th>\n",
       "      <td>-1.951803</td>\n",
       "      <td>1.360164</td>\n",
       "      <td>0.718628</td>\n",
       "      <td>0.707488</td>\n",
       "      <td>0.740755</td>\n",
       "      <td>0.400167</td>\n",
       "      <td>-0.700721</td>\n",
       "      <td>-0.420223</td>\n",
       "    </tr>\n",
       "    <tr>\n",
       "      <th>4</th>\n",
       "      <td>-0.835321</td>\n",
       "      <td>-0.842305</td>\n",
       "      <td>0.624765</td>\n",
       "      <td>0.726992</td>\n",
       "      <td>-0.829072</td>\n",
       "      <td>0.888620</td>\n",
       "      <td>1.959105</td>\n",
       "      <td>-0.420223</td>\n",
       "    </tr>\n",
       "  </tbody>\n",
       "</table>\n",
       "</div>"
      ],
      "text/plain": [
       "   AveragePrice      4046      4225      4770  Small Bags  Large Bags  \\\n",
       "0      0.334326 -0.132434  1.270278 -0.197298    1.014432    0.829104   \n",
       "1     -0.888487  1.110285  1.861836  0.870139    0.464656   -0.065050   \n",
       "2     -1.898637  1.298622  1.547729  0.466813    0.795989    1.191827   \n",
       "3     -1.951803  1.360164  0.718628  0.707488    0.740755    0.400167   \n",
       "4     -0.835321 -0.842305  0.624765  0.726992   -0.829072    0.888620   \n",
       "\n",
       "   XLarge Bags      year  \n",
       "0    -0.700721 -0.420223  \n",
       "1     0.905964 -0.420223  \n",
       "2    -0.700721 -0.420223  \n",
       "3    -0.700721 -0.420223  \n",
       "4     1.959105 -0.420223  "
      ]
     },
     "execution_count": 116,
     "metadata": {},
     "output_type": "execute_result"
    }
   ],
   "source": [
    "#Lets scale the parameters\n",
    "from sklearn.preprocessing import StandardScaler\n",
    "sc=StandardScaler()\n",
    "x=sc.fit_transform(df_x)\n",
    "x=pd.DataFrame(x,columns=df_x.columns)\n",
    "x.head()"
   ]
  },
  {
   "cell_type": "markdown",
   "metadata": {},
   "source": [
    "# We need Classification so let's start with\n",
    "# Random Forest Classifier"
   ]
  },
  {
   "cell_type": "code",
   "execution_count": 117,
   "metadata": {},
   "outputs": [
    {
     "data": {
      "text/plain": [
       "{'n_estimators': 200}"
      ]
     },
     "execution_count": 117,
     "metadata": {},
     "output_type": "execute_result"
    }
   ],
   "source": [
    "from sklearn.ensemble import RandomForestClassifier\n",
    "from sklearn.model_selection import GridSearchCV\n",
    "import warnings\n",
    "warnings.filterwarnings(\"ignore\")\n",
    "rfc=RandomForestClassifier()\n",
    "parameters = {\"n_estimators\":[10,50,100,150,200,250,500]}\n",
    "clf = GridSearchCV(rfc, parameters, cv=5,scoring=\"r2\")\n",
    "clf.fit(x,y)\n",
    "clf.best_params_"
   ]
  },
  {
   "cell_type": "code",
   "execution_count": 118,
   "metadata": {},
   "outputs": [
    {
     "name": "stdout",
     "output_type": "stream",
     "text": [
      "max r2 score corresponding to  94  is  0.9397820659747271\n"
     ]
    }
   ],
   "source": [
    "rfc=RandomForestRegressor(n_estimators=200)\n",
    "r_state=maxr2_score(rfc,x,y)"
   ]
  },
  {
   "cell_type": "markdown",
   "metadata": {},
   "source": [
    "# KNN Classifier"
   ]
  },
  {
   "cell_type": "code",
   "execution_count": 119,
   "metadata": {},
   "outputs": [
    {
     "data": {
      "text/plain": [
       "{'n_neighbors': 2}"
      ]
     },
     "execution_count": 119,
     "metadata": {},
     "output_type": "execute_result"
    }
   ],
   "source": [
    "from sklearn.neighbors import KNeighborsClassifier\n",
    "knn=KNeighborsClassifier()\n",
    "parameters = {\"n_neighbors\":range(2,20)}\n",
    "clf = GridSearchCV(knn, parameters, cv=5,scoring=\"r2\")\n",
    "clf.fit(x, y)\n",
    "clf.best_params_"
   ]
  },
  {
   "cell_type": "code",
   "execution_count": 120,
   "metadata": {},
   "outputs": [
    {
     "name": "stdout",
     "output_type": "stream",
     "text": [
      "max r2 score corresponding to  77  is  0.971772080384452\n"
     ]
    }
   ],
   "source": [
    "knn=KNeighborsRegressor(n_neighbors=2)\n",
    "r_state=maxr2_score(knn,x,y)"
   ]
  },
  {
   "cell_type": "markdown",
   "metadata": {},
   "source": [
    "# SVC"
   ]
  },
  {
   "cell_type": "code",
   "execution_count": 121,
   "metadata": {},
   "outputs": [
    {
     "data": {
      "text/plain": [
       "{'C': 10, 'kernel': 'rbf'}"
      ]
     },
     "execution_count": 121,
     "metadata": {},
     "output_type": "execute_result"
    }
   ],
   "source": [
    "from sklearn.svm import SVC\n",
    "import warnings\n",
    "warnings.filterwarnings(\"ignore\")\n",
    "svc=SVC()\n",
    "parameters={\"kernel\":[\"linear\", \"poly\", \"rbf\"],\"C\":[0.001,0.01,0.1,1,10]}\n",
    "clf = GridSearchCV(svc, parameters, cv=5,scoring=\"r2\")\n",
    "clf.fit(x,y)\n",
    "clf.best_params_"
   ]
  },
  {
   "cell_type": "code",
   "execution_count": 122,
   "metadata": {},
   "outputs": [
    {
     "name": "stdout",
     "output_type": "stream",
     "text": [
      "max r2 score corresponding to  58  is  0.5583334070822914\n"
     ]
    }
   ],
   "source": [
    "svc=SVC(kernel=\"rbf\",C=10)\n",
    "r_state=maxr2_score(svr,x,y) "
   ]
  },
  {
   "cell_type": "markdown",
   "metadata": {},
   "source": [
    "# Cross Validation"
   ]
  },
  {
   "cell_type": "code",
   "execution_count": 124,
   "metadata": {},
   "outputs": [
    {
     "name": "stdout",
     "output_type": "stream",
     "text": [
      "\n",
      "\n",
      "Random Forest Classifier\n",
      "\n",
      "\n",
      "Mean r2 score for regressor:  0.5255839567231275\n",
      "standard deviation in r2 score for regressor:  0.6474534213526512\n",
      "[ 0.85475224  0.86073794  0.88308754  0.79743117 -0.76808911]\n",
      "\n",
      "\n",
      "KNN Classifier\n",
      "\n",
      "\n",
      "Mean r2 score for regressor:  0.5666628695136033\n",
      "standard deviation in r2 score for regressor:  0.687257281377136\n",
      "[ 0.9183922   0.89262387  0.91102842  0.91898944 -0.80771958]\n",
      "\n",
      "\n",
      "SVM Classifier\n",
      "\n",
      "\n",
      "Mean r2 score for regressor:  0.8752672772540773\n",
      "standard deviation in r2 score for regressor:  0.07068752663338879\n",
      "[0.75840439 0.86077599 0.95117363 0.85930083 0.94668155]\n"
     ]
    }
   ],
   "source": [
    "print(\"\\n\\nRandom Forest Classifier\\n\\n\")\n",
    "model_evaluation(rfc,x,y)\n",
    "\n",
    "print(\"\\n\\nKNN Classifier\\n\\n\")\n",
    "model_evaluation(knn,x,y)\n",
    "\n",
    "print(\"\\n\\nSVM Classifier\\n\\n\")\n",
    "model_evaluation(svc,x,y)"
   ]
  },
  {
   "cell_type": "markdown",
   "metadata": {},
   "source": [
    "# Based on above results let's select Support Vector Classifier"
   ]
  },
  {
   "cell_type": "code",
   "execution_count": 126,
   "metadata": {},
   "outputs": [],
   "source": [
    "x_train, x_test, y_train, y_test = train_test_split(x, y,random_state = 58,test_size=0.20)\n",
    "svc.fit(x_train,y_train)\n",
    "y_pred = svc.predict(x_test)"
   ]
  },
  {
   "cell_type": "code",
   "execution_count": 129,
   "metadata": {},
   "outputs": [
    {
     "name": "stdout",
     "output_type": "stream",
     "text": [
      "Confusion matrix \n",
      " [[15  0  0 ...  0  0  0]\n",
      " [ 0 10  0 ...  0  0  0]\n",
      " [ 0  0 15 ...  0  0  0]\n",
      " ...\n",
      " [ 0  0  0 ...  4  0  0]\n",
      " [ 0  0  0 ...  0  4  0]\n",
      " [ 0  0  0 ...  0  0  6]]\n",
      "classification report \n",
      "               precision    recall  f1-score   support\n",
      "\n",
      "           0       1.00      1.00      1.00        15\n",
      "           1       1.00      1.00      1.00        10\n",
      "           2       1.00      1.00      1.00        15\n",
      "           3       1.00      1.00      1.00        10\n",
      "           4       1.00      1.00      1.00        10\n",
      "           5       1.00      1.00      1.00        11\n",
      "           6       0.67      0.67      0.67         3\n",
      "           7       1.00      1.00      1.00         7\n",
      "           8       1.00      1.00      1.00        12\n",
      "           9       1.00      0.80      0.89         5\n",
      "          10       1.00      1.00      1.00         2\n",
      "          11       0.91      1.00      0.95        10\n",
      "          12       1.00      1.00      1.00         5\n",
      "          13       1.00      1.00      1.00         7\n",
      "          14       1.00      0.50      0.67         2\n",
      "          15       1.00      1.00      1.00         5\n",
      "          16       1.00      0.67      0.80         3\n",
      "          17       1.00      1.00      1.00        11\n",
      "          18       1.00      0.67      0.80         3\n",
      "          19       1.00      1.00      1.00         1\n",
      "          20       1.00      1.00      1.00         6\n",
      "          21       1.00      1.00      1.00         4\n",
      "          22       1.00      1.00      1.00         4\n",
      "          23       0.83      1.00      0.91         5\n",
      "          24       1.00      1.00      1.00         3\n",
      "          25       1.00      1.00      1.00         4\n",
      "          26       0.89      1.00      0.94         8\n",
      "          27       0.80      1.00      0.89         4\n",
      "          28       1.00      1.00      1.00         4\n",
      "          29       1.00      0.75      0.86         4\n",
      "          30       0.86      1.00      0.92         6\n",
      "          31       1.00      1.00      1.00         7\n",
      "          32       1.00      1.00      1.00         6\n",
      "          33       1.00      1.00      1.00         2\n",
      "          35       1.00      1.00      1.00         8\n",
      "          36       1.00      1.00      1.00         2\n",
      "          37       1.00      1.00      1.00         4\n",
      "          38       1.00      1.00      1.00         4\n",
      "          39       1.00      1.00      1.00         6\n",
      "\n",
      "    accuracy                           0.97       238\n",
      "   macro avg       0.97      0.95      0.96       238\n",
      "weighted avg       0.98      0.97      0.97       238\n",
      "\n"
     ]
    }
   ],
   "source": [
    "from sklearn.metrics import confusion_matrix\n",
    "from sklearn.metrics import classification_report\n",
    "print(\"Confusion matrix \\n\",confusion_matrix(y_test,y_pred))\n",
    "print(\"classification report \\n\",classification_report(y_test,y_pred))"
   ]
  },
  {
   "cell_type": "code",
   "execution_count": 130,
   "metadata": {},
   "outputs": [
    {
     "data": {
      "text/plain": [
       "['Region.pkl']"
      ]
     },
     "execution_count": 130,
     "metadata": {},
     "output_type": "execute_result"
    }
   ],
   "source": [
    "joblib.dump(svc,'Region.pkl')"
   ]
  },
  {
   "cell_type": "code",
   "execution_count": null,
   "metadata": {},
   "outputs": [],
   "source": []
  }
 ],
 "metadata": {
  "kernelspec": {
   "display_name": "Python 3",
   "language": "python",
   "name": "python3"
  },
  "language_info": {
   "codemirror_mode": {
    "name": "ipython",
    "version": 3
   },
   "file_extension": ".py",
   "mimetype": "text/x-python",
   "name": "python",
   "nbconvert_exporter": "python",
   "pygments_lexer": "ipython3",
   "version": "3.7.6"
  }
 },
 "nbformat": 4,
 "nbformat_minor": 4
}
